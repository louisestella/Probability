{
  "nbformat": 4,
  "nbformat_minor": 0,
  "metadata": {
    "colab": {
      "name": "Exploratory Data Analysis - Bar Plots And Scatter Plots.ipynb",
      "version": "0.3.2",
      "provenance": [],
      "include_colab_link": true
    },
    "kernelspec": {
      "display_name": "Python 3",
      "language": "python",
      "name": "python3"
    }
  },
  "cells": [
    {
      "cell_type": "markdown",
      "metadata": {
        "id": "view-in-github",
        "colab_type": "text"
      },
      "source": [
        "<a href=\"https://colab.research.google.com/github/louisestella/Probability/blob/master/Exploratory_Data_Analysis_Bar_Plots_And_Scatter_Plots.ipynb\" target=\"_parent\"><img src=\"https://colab.research.google.com/assets/colab-badge.svg\" alt=\"Open In Colab\"/></a>"
      ]
    },
    {
      "metadata": {
        "id": "HAT6cOVf5N-h",
        "colab_type": "code",
        "outputId": "239c82d7-0037-47d5-ad90-f0c5b689f520",
        "colab": {
          "resources": {
            "http://localhost:8080/nbextensions/google.colab/files.js": {
              "data": "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",
              "ok": true,
              "headers": [
                [
                  "content-type",
                  "application/javascript"
                ]
              ],
              "status": 200,
              "status_text": "OK"
            }
          },
          "base_uri": "https://localhost:8080/",
          "height": 93
        }
      },
      "cell_type": "code",
      "source": [
        "# Uploading files from your local file system\n",
        "\n",
        "from google.colab import files\n",
        "uploaded = files.upload()\n",
        "for fn in uploaded.keys():\n",
        "  print('User uploaded file \"{name}\" with length {length} bytes'.format(\n",
        "      name=fn, length=len(uploaded[fn])))"
      ],
      "execution_count": 0,
      "outputs": [
        {
          "output_type": "display_data",
          "data": {
            "text/html": [
              "\n",
              "     <input type=\"file\" id=\"files-5f7dadce-7667-464b-a23c-a564eb6d3736\" name=\"files[]\" multiple disabled />\n",
              "     <output id=\"result-5f7dadce-7667-464b-a23c-a564eb6d3736\">\n",
              "      Upload widget is only available when the cell has been executed in the\n",
              "      current browser session. Please rerun this cell to enable.\n",
              "      </output>\n",
              "      <script src=\"/nbextensions/google.colab/files.js\"></script> "
            ],
            "text/plain": [
              "<IPython.core.display.HTML object>"
            ]
          },
          "metadata": {
            "tags": []
          }
        },
        {
          "output_type": "stream",
          "text": [
            "Saving fandango_scores.csv to fandango_scores (1).csv\n",
            "User uploaded file \"fandango_scores.csv\" with length 15291 bytes\n"
          ],
          "name": "stdout"
        }
      ]
    },
    {
      "metadata": {
        "id": "QM0kP8zABtVA",
        "colab_type": "text"
      },
      "cell_type": "markdown",
      "source": [
        "\n",
        "<img width=\"60\" src=\"https://drive.google.com/uc?export=view&id=1JQRWCUpJNAvselJbC_K5xa5mcKl1gBQe\"> \n",
        "\n"
      ]
    },
    {
      "metadata": {
        "id": "mEOTsY3csCv4",
        "colab_type": "text"
      },
      "cell_type": "markdown",
      "source": [
        "# 1 - Introduction to the data\n"
      ]
    },
    {
      "metadata": {
        "id": "rjsEiohXsD5h",
        "colab_type": "text"
      },
      "cell_type": "markdown",
      "source": [
        "\n",
        "To investigate how different the potential bias that movie reviews site has, **FiveThirtyEight** compiled data for 147 films from 2015 that have substantive reviews from both critics and consumers. Every time Hollywood releases a movie, critics from **Metacritic**, **Fandango**, **Rotten Tomatoes**, and **IMDB** review and rate the film. They also ask the users in their respective communities to review and rate the film. Then, they calculate the average rating from both critics and users and display them on their site. Here are screenshots from each site:\n",
        "\n",
        "\n",
        "<img width=\"600\" alt=\"creating a repo\" src=\"https://drive.google.com/uc?export=view&id=0BxhVm1REqwr0VE5BNVVnT1piWjA\">\n",
        "\n",
        "\n",
        "FiveThirtyEight compiled this dataset to investigate if there was any bias to Fandango's ratings. In addition to aggregating ratings for films, Fandango is unique in that it also sells movie tickets, and so it has a direct commercial interest in showing higher ratings. After discovering that a few films that weren't good were still rated highly on Fandango, the team investigated and published an [article about bias in movie ratings](http://fivethirtyeight.com/features/fandango-movies-ratings/).\n",
        "\n",
        "\n",
        "We'll be working with the **fandango_scores.csv** file, which can be downloaded from the [FiveThirtEight Github repo](https://github.com/fivethirtyeight/data/tree/master/fandango). Here are the columns we'll be working with in this mission:\n",
        "\n",
        "- **FILM** - film name\n",
        "- **RT_user_norm**  - average user rating from Rotten Tomatoes, normalized to a 1 to 5 point scale\n",
        "- **Metacritic_user_nom**  - average user rating from Metacritc, normalized to a 1 to 5 point scale\n",
        "- **IMDB_norm** - average user rating from IMDB, normalized to a 1 to 5 point scale\n",
        "- **Fandango_Ratingvalue** - average user rating from Fandango, normalized to a 1 to 5 point scale\n",
        "- **Fandango_Stars** - the rating displayed on the Fandango website (rounded to nearest star, 1 to 5 point scale)\n",
        "\n",
        "\n",
        "Instead of displaying the raw rating, the writer discovered that Fandango usually rounded the average rating to the next highest half star (next highest **0.5** value). The **Fandango_Ratingvalue** column reflects the true average rating while the **Fandango_Stars** column reflects the displayed, rounded rating.\n",
        "\n",
        "Let's read in this dataset, which allows us to compare how a movie fared across all 4 review sites."
      ]
    },
    {
      "metadata": {
        "id": "H_GVImCnr1xt",
        "colab_type": "text"
      },
      "cell_type": "markdown",
      "source": [
        "**Exercise**\n",
        "\n",
        "<img width=\"100\" src=\"https://drive.google.com/uc?export=view&id=1E8tR7B9YYUXsU_rddJAyq0FrM0MSelxZ\">\n",
        "\n",
        "\n",
        "\n",
        "**Description**:\n",
        "\n",
        "\n",
        "1. Read **fandango_scores.csv** into a Dataframe named **reviews**.\n",
        "2. Select the following columns and assign the resulting Dataframe to **norm_reviews**:\n",
        "    - **FILM**\n",
        "    - **RT_user_norm**\n",
        "    - **Metacritic_user_nom** (note the misspelling of norm)\n",
        "    - **IMDB_norm**\n",
        "    - **Fandango_Ratingvalue**\n",
        "    - **Fandango_Stars**\n",
        "3. Display the first row in **norm_reviews**"
      ]
    },
    {
      "metadata": {
        "id": "Ks5LQH_guTih",
        "colab_type": "code",
        "outputId": "eb394883-9d13-4761-a085-4d14777a8127",
        "colab": {
          "base_uri": "https://localhost:8080/",
          "height": 429
        }
      },
      "cell_type": "code",
      "source": [
        "# put your code here\n",
        "\n",
        "import pandas as pd\n",
        "import matplotlib.pyplot as plt\n",
        "import numpy as np\n",
        "\n",
        "reviews = pd.read_csv(\"fandango_scores.csv\")\n",
        "reviews.head(5)"
      ],
      "execution_count": 0,
      "outputs": [
        {
          "output_type": "execute_result",
          "data": {
            "text/html": [
              "<div>\n",
              "<style scoped>\n",
              "    .dataframe tbody tr th:only-of-type {\n",
              "        vertical-align: middle;\n",
              "    }\n",
              "\n",
              "    .dataframe tbody tr th {\n",
              "        vertical-align: top;\n",
              "    }\n",
              "\n",
              "    .dataframe thead th {\n",
              "        text-align: right;\n",
              "    }\n",
              "</style>\n",
              "<table border=\"1\" class=\"dataframe\">\n",
              "  <thead>\n",
              "    <tr style=\"text-align: right;\">\n",
              "      <th></th>\n",
              "      <th>FILM</th>\n",
              "      <th>RottenTomatoes</th>\n",
              "      <th>RottenTomatoes_User</th>\n",
              "      <th>Metacritic</th>\n",
              "      <th>Metacritic_User</th>\n",
              "      <th>IMDB</th>\n",
              "      <th>Fandango_Stars</th>\n",
              "      <th>Fandango_Ratingvalue</th>\n",
              "      <th>RT_norm</th>\n",
              "      <th>RT_user_norm</th>\n",
              "      <th>...</th>\n",
              "      <th>IMDB_norm</th>\n",
              "      <th>RT_norm_round</th>\n",
              "      <th>RT_user_norm_round</th>\n",
              "      <th>Metacritic_norm_round</th>\n",
              "      <th>Metacritic_user_norm_round</th>\n",
              "      <th>IMDB_norm_round</th>\n",
              "      <th>Metacritic_user_vote_count</th>\n",
              "      <th>IMDB_user_vote_count</th>\n",
              "      <th>Fandango_votes</th>\n",
              "      <th>Fandango_Difference</th>\n",
              "    </tr>\n",
              "  </thead>\n",
              "  <tbody>\n",
              "    <tr>\n",
              "      <th>0</th>\n",
              "      <td>Avengers: Age of Ultron (2015)</td>\n",
              "      <td>74</td>\n",
              "      <td>86</td>\n",
              "      <td>66</td>\n",
              "      <td>7.1</td>\n",
              "      <td>7.8</td>\n",
              "      <td>5.0</td>\n",
              "      <td>4.5</td>\n",
              "      <td>3.70</td>\n",
              "      <td>4.3</td>\n",
              "      <td>...</td>\n",
              "      <td>3.90</td>\n",
              "      <td>3.5</td>\n",
              "      <td>4.5</td>\n",
              "      <td>3.5</td>\n",
              "      <td>3.5</td>\n",
              "      <td>4.0</td>\n",
              "      <td>1330</td>\n",
              "      <td>271107</td>\n",
              "      <td>14846</td>\n",
              "      <td>0.5</td>\n",
              "    </tr>\n",
              "    <tr>\n",
              "      <th>1</th>\n",
              "      <td>Cinderella (2015)</td>\n",
              "      <td>85</td>\n",
              "      <td>80</td>\n",
              "      <td>67</td>\n",
              "      <td>7.5</td>\n",
              "      <td>7.1</td>\n",
              "      <td>5.0</td>\n",
              "      <td>4.5</td>\n",
              "      <td>4.25</td>\n",
              "      <td>4.0</td>\n",
              "      <td>...</td>\n",
              "      <td>3.55</td>\n",
              "      <td>4.5</td>\n",
              "      <td>4.0</td>\n",
              "      <td>3.5</td>\n",
              "      <td>4.0</td>\n",
              "      <td>3.5</td>\n",
              "      <td>249</td>\n",
              "      <td>65709</td>\n",
              "      <td>12640</td>\n",
              "      <td>0.5</td>\n",
              "    </tr>\n",
              "    <tr>\n",
              "      <th>2</th>\n",
              "      <td>Ant-Man (2015)</td>\n",
              "      <td>80</td>\n",
              "      <td>90</td>\n",
              "      <td>64</td>\n",
              "      <td>8.1</td>\n",
              "      <td>7.8</td>\n",
              "      <td>5.0</td>\n",
              "      <td>4.5</td>\n",
              "      <td>4.00</td>\n",
              "      <td>4.5</td>\n",
              "      <td>...</td>\n",
              "      <td>3.90</td>\n",
              "      <td>4.0</td>\n",
              "      <td>4.5</td>\n",
              "      <td>3.0</td>\n",
              "      <td>4.0</td>\n",
              "      <td>4.0</td>\n",
              "      <td>627</td>\n",
              "      <td>103660</td>\n",
              "      <td>12055</td>\n",
              "      <td>0.5</td>\n",
              "    </tr>\n",
              "    <tr>\n",
              "      <th>3</th>\n",
              "      <td>Do You Believe? (2015)</td>\n",
              "      <td>18</td>\n",
              "      <td>84</td>\n",
              "      <td>22</td>\n",
              "      <td>4.7</td>\n",
              "      <td>5.4</td>\n",
              "      <td>5.0</td>\n",
              "      <td>4.5</td>\n",
              "      <td>0.90</td>\n",
              "      <td>4.2</td>\n",
              "      <td>...</td>\n",
              "      <td>2.70</td>\n",
              "      <td>1.0</td>\n",
              "      <td>4.0</td>\n",
              "      <td>1.0</td>\n",
              "      <td>2.5</td>\n",
              "      <td>2.5</td>\n",
              "      <td>31</td>\n",
              "      <td>3136</td>\n",
              "      <td>1793</td>\n",
              "      <td>0.5</td>\n",
              "    </tr>\n",
              "    <tr>\n",
              "      <th>4</th>\n",
              "      <td>Hot Tub Time Machine 2 (2015)</td>\n",
              "      <td>14</td>\n",
              "      <td>28</td>\n",
              "      <td>29</td>\n",
              "      <td>3.4</td>\n",
              "      <td>5.1</td>\n",
              "      <td>3.5</td>\n",
              "      <td>3.0</td>\n",
              "      <td>0.70</td>\n",
              "      <td>1.4</td>\n",
              "      <td>...</td>\n",
              "      <td>2.55</td>\n",
              "      <td>0.5</td>\n",
              "      <td>1.5</td>\n",
              "      <td>1.5</td>\n",
              "      <td>1.5</td>\n",
              "      <td>2.5</td>\n",
              "      <td>88</td>\n",
              "      <td>19560</td>\n",
              "      <td>1021</td>\n",
              "      <td>0.5</td>\n",
              "    </tr>\n",
              "  </tbody>\n",
              "</table>\n",
              "<p>5 rows × 22 columns</p>\n",
              "</div>"
            ],
            "text/plain": [
              "                             FILM  RottenTomatoes  RottenTomatoes_User  \\\n",
              "0  Avengers: Age of Ultron (2015)              74                   86   \n",
              "1               Cinderella (2015)              85                   80   \n",
              "2                  Ant-Man (2015)              80                   90   \n",
              "3          Do You Believe? (2015)              18                   84   \n",
              "4   Hot Tub Time Machine 2 (2015)              14                   28   \n",
              "\n",
              "   Metacritic  Metacritic_User  IMDB  Fandango_Stars  Fandango_Ratingvalue  \\\n",
              "0          66              7.1   7.8             5.0                   4.5   \n",
              "1          67              7.5   7.1             5.0                   4.5   \n",
              "2          64              8.1   7.8             5.0                   4.5   \n",
              "3          22              4.7   5.4             5.0                   4.5   \n",
              "4          29              3.4   5.1             3.5                   3.0   \n",
              "\n",
              "   RT_norm  RT_user_norm         ...           IMDB_norm  RT_norm_round  \\\n",
              "0     3.70           4.3         ...                3.90            3.5   \n",
              "1     4.25           4.0         ...                3.55            4.5   \n",
              "2     4.00           4.5         ...                3.90            4.0   \n",
              "3     0.90           4.2         ...                2.70            1.0   \n",
              "4     0.70           1.4         ...                2.55            0.5   \n",
              "\n",
              "   RT_user_norm_round  Metacritic_norm_round  Metacritic_user_norm_round  \\\n",
              "0                 4.5                    3.5                         3.5   \n",
              "1                 4.0                    3.5                         4.0   \n",
              "2                 4.5                    3.0                         4.0   \n",
              "3                 4.0                    1.0                         2.5   \n",
              "4                 1.5                    1.5                         1.5   \n",
              "\n",
              "   IMDB_norm_round  Metacritic_user_vote_count  IMDB_user_vote_count  \\\n",
              "0              4.0                        1330                271107   \n",
              "1              3.5                         249                 65709   \n",
              "2              4.0                         627                103660   \n",
              "3              2.5                          31                  3136   \n",
              "4              2.5                          88                 19560   \n",
              "\n",
              "   Fandango_votes  Fandango_Difference  \n",
              "0           14846                  0.5  \n",
              "1           12640                  0.5  \n",
              "2           12055                  0.5  \n",
              "3            1793                  0.5  \n",
              "4            1021                  0.5  \n",
              "\n",
              "[5 rows x 22 columns]"
            ]
          },
          "metadata": {
            "tags": []
          },
          "execution_count": 2
        }
      ]
    },
    {
      "metadata": {
        "id": "DqvFNi-DJY5H",
        "colab_type": "code",
        "outputId": "6d09063a-da93-4ad3-d4bc-9fb85e5c4de6",
        "colab": {
          "base_uri": "https://localhost:8080/",
          "height": 81
        }
      },
      "cell_type": "code",
      "source": [
        "norm_reviews = reviews.loc[:,['FILM','RT_user_norm','Metacritic_user_nom','IMDB_norm','Fandango_Ratingvalue','Fandango_Stars']]\n",
        "\n",
        "norm_reviews.head(1)"
      ],
      "execution_count": 0,
      "outputs": [
        {
          "output_type": "execute_result",
          "data": {
            "text/html": [
              "<div>\n",
              "<style scoped>\n",
              "    .dataframe tbody tr th:only-of-type {\n",
              "        vertical-align: middle;\n",
              "    }\n",
              "\n",
              "    .dataframe tbody tr th {\n",
              "        vertical-align: top;\n",
              "    }\n",
              "\n",
              "    .dataframe thead th {\n",
              "        text-align: right;\n",
              "    }\n",
              "</style>\n",
              "<table border=\"1\" class=\"dataframe\">\n",
              "  <thead>\n",
              "    <tr style=\"text-align: right;\">\n",
              "      <th></th>\n",
              "      <th>FILM</th>\n",
              "      <th>RT_user_norm</th>\n",
              "      <th>Metacritic_user_nom</th>\n",
              "      <th>IMDB_norm</th>\n",
              "      <th>Fandango_Ratingvalue</th>\n",
              "      <th>Fandango_Stars</th>\n",
              "    </tr>\n",
              "  </thead>\n",
              "  <tbody>\n",
              "    <tr>\n",
              "      <th>0</th>\n",
              "      <td>Avengers: Age of Ultron (2015)</td>\n",
              "      <td>4.3</td>\n",
              "      <td>3.55</td>\n",
              "      <td>3.9</td>\n",
              "      <td>4.5</td>\n",
              "      <td>5.0</td>\n",
              "    </tr>\n",
              "  </tbody>\n",
              "</table>\n",
              "</div>"
            ],
            "text/plain": [
              "                             FILM  RT_user_norm  Metacritic_user_nom  \\\n",
              "0  Avengers: Age of Ultron (2015)           4.3                 3.55   \n",
              "\n",
              "   IMDB_norm  Fandango_Ratingvalue  Fandango_Stars  \n",
              "0        3.9                   4.5             5.0  "
            ]
          },
          "metadata": {
            "tags": []
          },
          "execution_count": 4
        }
      ]
    },
    {
      "metadata": {
        "id": "DlIUgL7Qr1xt",
        "colab_type": "text"
      },
      "cell_type": "markdown",
      "source": [
        "# 2 - Bar plot\n"
      ]
    },
    {
      "metadata": {
        "id": "OzfkF4NktDxD",
        "colab_type": "text"
      },
      "cell_type": "markdown",
      "source": [
        "\n",
        "These sites use different scales for ratings. Some use a 5 star scale while others use a 100 point scale. In addition, Metacritic and Rotten Tomatoes aggregate scores from both users and film critics, while IMDB and Fandango aggregate only from their users. We'll focus on just the average scores from users, because not all of the sites have scores from critics.\n",
        "\n",
        "The **RT_user_norm**, **Metacritic_user_nom**, **IMDB_norm**, and **Fandango_Ratingvalue** columns contain the average user rating for each movie, normalized to a 0 to 5 point scale. This allows us to compare how the users on each site rated a movie. While using averages isn't perfect because films with a few reviews can skew the average rating, FiveThirtyEight only selected movies with a non-trivial number of ratings to ensure films with only a handful of reviews aren't included.\n",
        "\n",
        "If you look at the first row, which lists the average user ratings for **Avengers: Age of Ultron (2015)**, you'll notice that the Fandango ratings, both the actual and the displayed rating, are higher than those from the other sites for a given movie. While calculating and comparing summary statistics give us hard numbers for quantifying the bias, visualizing the data using plots can help us gain a more intuitive understanding. We need a visualization that scales graphical objects to the quantitative values we're interested in comparing. One of these visualizations is a **bar plot**.\n",
        "\n",
        "<img width=\"400\" alt=\"creating a repo\" src=\"https://drive.google.com/uc?export=view&id=0BxhVm1REqwr0T1ltc2tnb2lDbHc\">\n",
        "\n",
        "\n",
        "In the bar plot above, the x-axis represented the different ratings and the y-axis represented the actual ratings. An effective bar plot uses categorical values on one axis and numerical values on the other axis. Because bar plots can help us find the category corresponding to the smallest or largest values, it's important that we restrict the number of bars in a single plot. Using a bar plot to visualize hundreds of values makes it difficult to trace the category with the smallest or largest value.\n",
        "\n",
        "If the x-axis contains the categorical values and the rectangular bars are scaled vertically, this is known as a vertical bar plot. A horizontal bar plot flips the axes, which is useful for quickly spotting the largest value.\n",
        "\n",
        "<img width=\"400\" alt=\"creating a repo\" src=\"https://drive.google.com/uc?export=view&id=0BxhVm1REqwr0cDhyZEttU0JTSnM\">\n",
        "\n",
        "An effective bar plot uses a consistent width for each bar. This helps keep the visual focus on the heights of the bars when comparing. Let's now learn how to create a vertical bar plot in matplotlib that represents the different user scores for Avengers: Age of Ultron (2015)."
      ]
    },
    {
      "metadata": {
        "id": "2LItQUj5r1xv",
        "colab_type": "text"
      },
      "cell_type": "markdown",
      "source": [
        "# 3 - Creating bars\n"
      ]
    },
    {
      "metadata": {
        "id": "nvVQsDVItgpq",
        "colab_type": "text"
      },
      "cell_type": "markdown",
      "source": [
        "\n",
        "When we generated line charts, we passed in the data to **pyplot.plot()** and matplotlib took care of the rest. Because the markers and lines in a line chart correspond directly with x-axis and y-axis coordinates, all matplotlib needed was the data we wanted plotted. To create a useful bar plot, however, we need to specify the positions of the bars, the widths of the bars, and the positions of the axis labels. Here's a diagram that shows the various values we need to specify:\n",
        "\n",
        "<img width=\"600\" alt=\"creating a repo\" src=\"https://drive.google.com/uc?export=view&id=0BxhVm1REqwr0NkExT245Q2Fva00\">\n",
        "\n",
        "\n",
        "We'll focus on positioning the bars on the x-axis in this step and on positioning the x-axis labels in the next step. We can generate a vertical bar plot using either [pyplot.bar()](http://matplotlib.org/api/pyplot_api.html#matplotlib.pyplot.bar) or [Axes.bar()](http://matplotlib.org/api/axes_api.html#matplotlib.axes.Axes.bar). We'll use **Axes.bar()** so we can extensively customize the bar plot more easily. We can use [pyplot.subplots()](http://matplotlib.org/api/pyplot_api.html#matplotlib.pyplot.subplots) to first generate a single subplot and return both the Figure and Axes object. This is a shortcut from the technique we used in the previous mission:\n",
        "\n",
        "```python\n",
        "fig, ax = plt.subplots()\n",
        "```\n",
        "\n",
        "The **Axes.bar()** method has 2 required parameters, left and height. We use the left parameter to specify the x coordinates of the left sides of the bar (marked in blue on the above image). We use the height parameter to specify the height of each bar. Both of these parameters accept a list-like object.\n",
        "\n",
        "The [np.arange()](http://docs.scipy.org/doc/numpy/reference/generated/numpy.arange.html) function returns evenly spaced values. We use **arange()** to generate the positions of the **left** side of our bars. This function requires a paramater that specifies the number of values we want to generate. We'll also want to add space between our bars for better readability:\n",
        "\n",
        "```python\n",
        "# Positions of the left sides of the 5 bars. [0.75, 1.75, 2.75, 3.75, 4.75]\n",
        "import numpy as np\n",
        "bar_positions = np.arange(5) + 0.75\n",
        "# Heights of the bars.  In our case, the average rating for the first movie in the dataset.\n",
        "num_cols = ['RT_user_norm', 'Metacritic_user_nom', 'IMDB_norm', 'Fandango_Ratingvalue', 'Fandango_Stars']\n",
        "bar_heights = norm_reviews[num_cols].iloc[0].values\n",
        "ax.bar(bar_positions, bar_heights)\n",
        "```\n",
        "\n",
        "\n",
        "We can also use the width parameter to specify the width of each bar. This is an optional parameter and the width of each bar is set to **0.8** by default. The following code sets the width parameter to **1.5**:\n",
        "\n",
        "```python\n",
        "ax.bar(bar_positions, bar_heights, 1.5)\n",
        "```\n",
        "\n",
        "**Exercise**\n",
        "\n",
        "<img width=\"100\" src=\"https://drive.google.com/uc?export=view&id=1E8tR7B9YYUXsU_rddJAyq0FrM0MSelxZ\">\n",
        "\n",
        "\n",
        "\n",
        "1. Create a single subplot and assign the returned Figure object to **fig** and the returned Axes object to **ax**.\n",
        "2. Generate a bar plot with:\n",
        "    - **left** set to **bar_positions**\n",
        "    - **height** set to **bar_heights**\n",
        "    - **width** set to 0.5\n",
        "3. Use **plt.show()** to display the bar plot."
      ]
    },
    {
      "metadata": {
        "id": "r-HfAKqruWI5",
        "colab_type": "code",
        "outputId": "9a9b2673-3987-4107-d3d8-33adc3bf1b25",
        "colab": {
          "base_uri": "https://localhost:8080/",
          "height": 347
        }
      },
      "cell_type": "code",
      "source": [
        "# put your code here\n",
        "fig, ax = plt.subplots()\n",
        "\n",
        "# Positions of the left sides of the 5 bars. [0.75, 1.75, 2.75, 3.75, 4.75]\n",
        "bar_positions = np.arange(5) + 0.5\n",
        "\n",
        "# Heights of the bars.  In our case, the average rating for the first movie in the dataset.\n",
        "num_cols = ['RT_user_norm', 'Metacritic_user_nom', 'IMDB_norm', 'Fandango_Ratingvalue', 'Fandango_Stars']\n",
        "bar_heights = norm_reviews[num_cols].iloc[0].values\n",
        "ax.bar(bar_positions, bar_heights)\n",
        "\n",
        "#ax.bar(bar_positions, bar_heights, 0.5)\n",
        "\n",
        "plt.show()"
      ],
      "execution_count": 0,
      "outputs": [
        {
          "output_type": "display_data",
          "data": {
            "image/png": "[encoded data removed]",
            "text/plain": [
              "<matplotlib.figure.Figure at 0x7f0fb3bfbf98>"
            ]
          },
          "metadata": {
            "tags": []
          }
        }
      ]
    },
    {
      "metadata": {
        "id": "geLLemCqr1xv",
        "colab_type": "text"
      },
      "cell_type": "markdown",
      "source": [
        "# 4 - Aligning Axis Ticks And Labels\n",
        "\n"
      ]
    },
    {
      "metadata": {
        "id": "B1uv-yQ2uOyL",
        "colab_type": "text"
      },
      "cell_type": "markdown",
      "source": [
        "\n",
        "By default, matplotlib sets the x-axis tick labels to the integer values the bars spanned on the x-axis (from **0** to **6**). We only need tick labels on the x-axis where the bars are positioned. We can use [Axes.set_xticks()](http://matplotlib.org/api/axes_api.html#matplotlib.axes.Axes.set_xticks) to change the positions of the ticks to **[1, 2, 3, 4, 5]**:\n",
        "\n",
        "```python\n",
        "tick_positions = range(1,6)\n",
        "ax.set_xticks(tick_positions)\n",
        "```\n",
        "\n",
        "Then, we can use [Axes.set_xticklabels()](http://matplotlib.org/api/axes_api.html#matplotlib.axes.Axes.set_xticklabels) to specify the tick labels:\n",
        "\n",
        "```python\n",
        "num_cols = ['RT_user_norm', 'Metacritic_user_nom', 'IMDB_norm', 'Fandango_Ratingvalue', 'Fandango_Stars']\n",
        "ax.set_xticklabels(num_cols)\n",
        "```\n",
        "\n",
        "If you look at the [documentation](http://matplotlib.org/api/axes_api.html#matplotlib.axes.Axes.set_xticklabels) for the method, you'll notice that we can specify the orientation for the labels using the **rotation** parameter:\n",
        "\n",
        "```python\n",
        "ax.set_xticklabels(num_cols, rotation=90)\n",
        "```\n",
        "\n",
        "Rotating the labels by 90 degrees keeps them readable. In addition to modifying the x-axis tick positions and labels, let's also set the x-axis label, y-axis label, and the plot title.\n",
        "\n",
        "\n",
        "**Exercise**\n",
        "\n",
        "<img width=\"100\" src=\"https://drive.google.com/uc?export=view&id=1E8tR7B9YYUXsU_rddJAyq0FrM0MSelxZ\">\n",
        "\n",
        "\n",
        "1. Create a single subplot and assign the returned Figure object to **fig** and the returned Axes object to **ax**.\n",
        "2. Generate a bar plot with:\n",
        "    - **left** set to **bar_positions**\n",
        "    - **height** set to **bar_heights**\n",
        "    - **width** set to **0.5**\n",
        "3. Set the x-axis tick positions to **tick_positions**.\n",
        "4. Set the x-axis tick labels to **num_cols** and rotate by **90** degrees.\n",
        "5. Set the x-axis label to **\"Rating Source\"**.\n",
        "6. Set the y-axis label to **\"Average Rating\"**.\n",
        "7. Set the plot title to **\"Average User Rating For Avengers: Age of Ultron (2015)\"**.\n",
        "8. Use **plt.show()** to display the bar plot."
      ]
    },
    {
      "metadata": {
        "id": "6fZEdXW5uYe0",
        "colab_type": "code",
        "outputId": "40244d89-d7ef-452c-933f-1704c9dc24f0",
        "colab": {
          "base_uri": "https://localhost:8080/",
          "height": 469
        }
      },
      "cell_type": "code",
      "source": [
        "# put your code here\n",
        "fig, ax = plt.subplots()\n",
        "\n",
        "# Positions of the left sides of the 5 bars. [0.75, 1.75, 2.75, 3.75, 4.75]\n",
        "bar_positions = np.arange(5) + 0.5\n",
        "\n",
        "# Heights of the bars.  In our case, the average rating for the first movie in the dataset.\n",
        "num_cols = ['RT_user_norm', 'Metacritic_user_nom', 'IMDB_norm', 'Fandango_Ratingvalue', 'Fandango_Stars']\n",
        "bar_heights = norm_reviews[num_cols].iloc[0].values\n",
        "ax.bar(bar_positions, bar_heights)\n",
        "\n",
        "#ax.bar(bar_positions, bar_heights, 0.5)\n",
        "\n",
        "tick_positions = np.arange(5) + 0.5\n",
        "ax.set_xticks(tick_positions)\n",
        "\n",
        "num_cols = ['RT_user_norm', 'Metacritic_user_nom', 'IMDB_norm', 'Fandango_Ratingvalue', 'Fandango_Stars']\n",
        "ax.set_xticklabels(num_cols)\n",
        "ax.set_xticklabels(num_cols, rotation=90)\n",
        "\n",
        "plt.xlabel( \"Rating Source\" )\n",
        "plt.ylabel( \"Average Rating\" )\n",
        "plt.title( \"Average User Rating For Avengers: Age of Ultron (2015)\" )\n",
        "\n",
        "plt.show()"
      ],
      "execution_count": 0,
      "outputs": [
        {
          "output_type": "display_data",
          "data": {
            "image/png": "[encoded data removed]",
            "text/plain": [
              "<matplotlib.figure.Figure at 0x7f0fb3bfb898>"
            ]
          },
          "metadata": {
            "tags": []
          }
        }
      ]
    },
    {
      "metadata": {
        "id": "WW2-L9Dtr1xv",
        "colab_type": "text"
      },
      "cell_type": "markdown",
      "source": [
        "# 5 - Horizontal bar plot\n"
      ]
    },
    {
      "metadata": {
        "id": "9gu9f_mfubAy",
        "colab_type": "text"
      },
      "cell_type": "markdown",
      "source": [
        "\n",
        "We can create a horizontal bar plot in matplotlib in a similar fashion. Instead of using **Axes.bar()**, we use [Axes.barh()](http://matplotlib.org/api/axes_api.html#matplotlib.axes.Axes.barh). This method has 2 required parameters, **bottom** and **width**. We use the **bottom** parameter to specify the y coordinate for the bottom sides for the bars and the **width** parameter to specify the lengths of the bars:\n",
        "\n",
        "```python\n",
        "bar_widths = norm_reviews[num_cols].iloc[0].values\n",
        "bar_positions = arange(5) + 0.75\n",
        "ax.barh(bar_positions, bar_widths, 0.5)\n",
        "```\n",
        "\n",
        "To recreate the bar plot from the last step as horizontal bar plot, we essentially need to map the properties we set for the y-axis instead of the x-axis. We use **Axes.set_yticks()** to set the y-axis tick positions to **[1, 2, 3, 4, 5]** and **Axes.set_yticklabels()** to set the tick labels to the column names:\n",
        "\n",
        "```python\n",
        "tick_positions = range(5) + 1\n",
        "num_cols = ['RT_user_norm', 'Metacritic_user_nom', 'IMDB_norm', 'Fandango_Ratingvalue', 'Fandango_Stars']\n",
        "ax.set_yticks(tick_positions)\n",
        "ax.set_yticklabels(num_cols)\n",
        "```\n",
        "\n",
        "**Exercise**\n",
        "\n",
        "<img width=\"100\" src=\"https://drive.google.com/uc?export=view&id=1E8tR7B9YYUXsU_rddJAyq0FrM0MSelxZ\">\n",
        "\n",
        "\n",
        "1. Create a single subplot and assign the returned Figure object to fig and the returned Axes object to ax.\n",
        "2. Generate a bar plot with:\n",
        "    - bottom set to bar_positions\n",
        "    - width set to bar_widths\n",
        "    - height set to 0.5\n",
        "3. Set the y-axis tick positions to tick_positions.\n",
        "4. Set the y-axis tick labels to num_cols.\n",
        "5. Set the y-axis label to \"Rating Source\".\n",
        "6. Set the x-axis label to \"Average Rating\".\n",
        "7. Set the plot title to \"Average User Rating For Avengers: Age of Ultron (2015)\".\n",
        "8. Use plt.show() to display the bar plot."
      ]
    },
    {
      "metadata": {
        "id": "59ArXcPTugCw",
        "colab_type": "code",
        "outputId": "6612802a-5e14-4a53-a864-3fdd878a85d0",
        "colab": {
          "base_uri": "https://localhost:8080/",
          "height": 376
        }
      },
      "cell_type": "code",
      "source": [
        "# put your code here\n",
        "fig, ax = plt.subplots()\n",
        "\n",
        "# Positions of the left sides of the 5 bars. [0.75, 1.75, 2.75, 3.75, 4.75]\n",
        "bar_positions = np.arange(5) + 0.75\n",
        "\n",
        "# Heights of the bars.  In our case, the average rating for the first movie in the dataset.\n",
        "num_cols = ['RT_user_norm', 'Metacritic_user_nom', 'IMDB_norm', 'Fandango_Ratingvalue', 'Fandango_Stars']\n",
        "bar_widths = norm_reviews[num_cols].iloc[0].values\n",
        "ax.barh(bar_positions, bar_widths, 0.5)\n",
        "\n",
        "#ax.bar(bar_positions, bar_heights, 0.5)\n",
        "\n",
        "tick_positions = np.arange(5) + 0.75\n",
        "ax.set_yticks(tick_positions)\n",
        "\n",
        "num_cols = ['RT_user_norm', 'Metacritic_user_nom', 'IMDB_norm', 'Fandango_Ratingvalue', 'Fandango_Stars']\n",
        "ax.set_yticklabels(num_cols)\n",
        "\n",
        "plt.ylabel( \"Rating Source\" )\n",
        "plt.xlabel( \"Average Rating\" )\n",
        "plt.title( \"Average User Rating For Avengers: Age of Ultron (2015)\" )\n",
        "\n",
        "plt.show()"
      ],
      "execution_count": 0,
      "outputs": [
        {
          "output_type": "display_data",
          "data": {
            "image/png": "[encoded data removed]",
            "text/plain": [
              "<matplotlib.figure.Figure at 0x7f0fb1321a20>"
            ]
          },
          "metadata": {
            "tags": []
          }
        }
      ]
    },
    {
      "metadata": {
        "id": "4PN0JKLlr1xw",
        "colab_type": "text"
      },
      "cell_type": "markdown",
      "source": [
        "# 6 - Scatter plot\n"
      ]
    },
    {
      "metadata": {
        "id": "lm6KW07kujds",
        "colab_type": "text"
      },
      "cell_type": "markdown",
      "source": [
        "\n",
        "From the horizontal bar plot, we can more easily determine that the 2 average scores from Fandango users are higher than those from the other sites. While bar plots help us visualize a few data points to quickly compare them, they aren't good at helping us visualize many data points. Let's look at a plot that can help us visualize many points.\n",
        "\n",
        "In the previous mission, the line charts we generated always connected points from left to right. This helped us show the trend, up or down, between each point as we scanned visually from left to right. Instead, we can avoid using lines to connect markers and just use the underlying markers. A plot containing just the markers is known as a **scatter plot**.\n",
        "\n",
        "\n",
        "<img width=\"800\" alt=\"creating a repo\" src=\"https://drive.google.com/uc?export=view&id=0BxhVm1REqwr0bDdWNU5HVDdpUHc\">\n",
        "\n",
        "\n",
        "A scatter plot helps us determine if 2 columns are weakly or strongly correlated. While calculating the [correlation coefficient](https://en.wikipedia.org/wiki/Correlation_coefficient) will give us a precise number, a scatter plot helps us find outliers, gain a more intuitive sense of how spread out the data is, and compare more easily.\n",
        "\n",
        "To generate a scatter plot, we use [Axes.scatter()](http://matplotlib.org/api/axes_api.html#matplotlib.axes.Axes.scatter). The **scatter()** method has 2 required parameters, **x** and **y**, which matches the parameters of the **plot()** method. The values for these parameters need to be iterable objects of matching lengths (lists, NumPy arrays, or pandas series).\n",
        "\n",
        "Let's start by creating a scatter plot that visualizes the relationship between the **Fandango_RatingValue** and **RT_user_norm** columns. We're looking for at least a weak correlation between the columns.\n",
        "\n",
        "**Exercise**\n",
        "\n",
        "<img width=\"100\" src=\"https://drive.google.com/uc?export=view&id=1E8tR7B9YYUXsU_rddJAyq0FrM0MSelxZ\">\n",
        "\n",
        "\n",
        "1. Create a single subplot and assign the returned Figure object to **fig** and the returned Axes object to **ax**.\n",
        "2. Generate a scatter plot with the **Fandango_Ratingvalue** column on the x-axis and the  **RT_user_norm** column on the y-axis.\n",
        "3. Set the x-axis label to **\"Fandango\"** and the y-axis label to **\"Rotten Tomatoes\"**.\n",
        "4. Use **plt.show() ** to display the resulting plot."
      ]
    },
    {
      "metadata": {
        "id": "DEQzE_cAum4c",
        "colab_type": "code",
        "outputId": "9524fffc-f38b-462e-c473-2917669941d2",
        "colab": {
          "base_uri": "https://localhost:8080/",
          "height": 361
        }
      },
      "cell_type": "code",
      "source": [
        "# put your code here\n",
        "fig, ax = plt.subplots()\n",
        "\n",
        "ax.scatter(norm_reviews['Fandango_Ratingvalue'],norm_reviews['RT_user_norm'])\n",
        "plt.xlabel( \"Fandango\" )\n",
        "plt.ylabel( \"Rotten Tomatoes\" )\n",
        "\n",
        "plt.show()"
      ],
      "execution_count": 0,
      "outputs": [
        {
          "output_type": "display_data",
          "data": {
            "image/png": "[encoded data removed]",
            "text/plain": [
              "<matplotlib.figure.Figure at 0x7f0fb139ebe0>"
            ]
          },
          "metadata": {
            "tags": []
          }
        }
      ]
    },
    {
      "metadata": {
        "id": "pC590Kzcr1xx",
        "colab_type": "text"
      },
      "cell_type": "markdown",
      "source": [
        "# 7 -Switching axes\n"
      ]
    },
    {
      "metadata": {
        "id": "xDJpZvB-upWd",
        "colab_type": "text"
      },
      "cell_type": "markdown",
      "source": [
        "\n",
        "The scatter plot suggests that there's a weak, positive correlation between the user ratings on Fandango and the user ratings on Rotten Tomatoes. The correlation is weak because for many x values, there are multiple corresponding y values. The correlation is positive because, in general, as x increases, y also increases.\n",
        "\n",
        "When using scatter plots to understand how 2 variables are correlated, it's usually not important which one is on the x-axis and which one is on the y-axis. This is because the relationship is still captured either way, even if the plots look a little different. If you want to instead understand how an independent variable affects a dependent variables, you want to put the independent one on the x-axis and the dependent one on the y-axis. Doing so helps emphasize the potential cause and effect relation.\n",
        "\n",
        "In our case, we're not exploring if the ratings from Fandango influence those on Rotten Tomatoes and we're instead looking to understand how much they agree. Let's see what happens when we flip the columns."
      ]
    },
    {
      "metadata": {
        "id": "Q-QmI3jxr1xz",
        "colab_type": "text"
      },
      "cell_type": "markdown",
      "source": [
        "# 8 - Benchmarking correlation\n"
      ]
    },
    {
      "metadata": {
        "id": "jT3PdQvmurZ3",
        "colab_type": "text"
      },
      "cell_type": "markdown",
      "source": [
        "\n",
        "The second scatter plot is a mirror reflection of the first second scatter plot. The nature of the correlation is still reflected, however, which is the important thing. Let's now generate scatter plots to see how Fandango ratings correlate with all 3 of the other review sites.\n",
        "\n",
        "When generating multiple scatter plots for the purpose of comparison, it's important that all plots share the same ranges in the x-axis and y-axis. In the 2 plots we generated in the last step, the ranges for both axes didn't match. We can use [Axes.set_xlim()](http://matplotlib.org/api/axes_api.html#matplotlib.axes.Axes.set_xlim) and [Axes.set_ylim()](http://matplotlib.org/api/axes_api.html#matplotlib.axes.Axes.set_ylim) to set the data limits for both axes:\n",
        "\n",
        "```python\n",
        "ax.set_xlim(0, 5)\n",
        "ax.set_ylim(0, 5)\n",
        "```\n",
        "\n",
        "By default, matplotlib uses the minimal ranges for the data limits necessary to display all of the data we specify. By manually setting the data limits ranges to specific ranges for all plots, we're ensuring that we can accurately compare. We can even use the methods we just mentioned to zoom in on a part of the plots. For example, the following code will constrained the axes to the **4** to **5** range:\n",
        "\n",
        "```python\n",
        "ax.set_xlim(4, 5)\n",
        "ax.set_ylim(4, 5)\n",
        "```\n",
        "\n",
        "This makes small changes in the actual values in the data appear larger in the plot. A difference of **0.1** in a plot that ranges from **0** to **5** is hard to visually observe. A difference of **0.1** in a plot that only ranges from **4** to **5** is easily visible since the difference is 1/10th of the range.\n",
        "\n",
        "**Exercise**\n",
        "\n",
        "<img width=\"100\" src=\"https://drive.google.com/uc?export=view&id=1E8tR7B9YYUXsU_rddJAyq0FrM0MSelxZ\">\n",
        "\n",
        "\n",
        "1. For the Subplot associated with **ax1**:\n",
        "    - Generate a scatter plot with the **Fandango_Ratingvalue** column on the x-axis and the **RT_user_norm** column on the y-axis.\n",
        "    - Set the x-axis label to **\"Fandango\"** and the y-axis label to **\"Rotten Tomatoes\"**.\n",
        "    - Set the x-axis and y-axis data limits to range from **0** and **5**.\n",
        "2. For the Subplot associated with **ax2**:\n",
        "    - Generate a scatter plot with the **Fandango_Ratingvalue** column on the x-axis and the **Metacritic_user_nom** column on the y-axis.\n",
        "    - Set the x-axis label to **\"Fandango\"** and the y-axis label to **\"Metacritic\"**.\n",
        "    - Set the x-axis and y-axis data limits to range from **0** and **5**.\n",
        "3. For the Subplot associated with **ax3**:\n",
        "    - Generate a scatter plot with the **Fandango_Ratingvalue** column on the x-axis and the **IMDB_norm** column on the y-axis.\n",
        "    - Set the x-axis label to **\"Fandango\"** and the y-axis label to **\"IMDB\"**.\n",
        "    - Set the x-axis and y-axis data limits to range from **0** and **5**.\n",
        "4. Use **plt.show()** to display the plots."
      ]
    },
    {
      "metadata": {
        "id": "hJi8kgYsuuq6",
        "colab_type": "code",
        "outputId": "dda239ee-281b-4d43-f89e-729d7ec6b1f8",
        "colab": {
          "base_uri": "https://localhost:8080/",
          "height": 1049
        }
      },
      "cell_type": "code",
      "source": [
        "# put your code here\n",
        "fig, ax1 = plt.subplots()\n",
        "\n",
        "ax1.scatter(norm_reviews['Fandango_Ratingvalue'],norm_reviews['RT_user_norm'])\n",
        "plt.xlabel( \"Fandango\" )\n",
        "plt.ylabel( \"Rotten Tomatoes\" )\n",
        "ax.set_xlim(0, 5)\n",
        "ax.set_ylim(0, 5)\n",
        "\n",
        "\n",
        "fig, ax2 = plt.subplots()\n",
        "\n",
        "ax2.scatter(norm_reviews['Fandango_Ratingvalue'],norm_reviews['Metacritic_user_nom'])\n",
        "plt.xlabel( \"Fandango\" )\n",
        "plt.ylabel( \"Metacritic\" )\n",
        "ax.set_xlim(0, 5)\n",
        "ax.set_ylim(0, 5)\n",
        "\n",
        "fig, ax3 = plt.subplots()\n",
        "\n",
        "ax3.scatter(norm_reviews['Fandango_Ratingvalue'],norm_reviews['IMDB_norm'])\n",
        "plt.xlabel( \"Fandango\" )\n",
        "plt.ylabel( \"Metacritic\" )\n",
        "ax.set_xlim(0, 5)\n",
        "ax.set_ylim(0, 5)\n",
        "\n",
        "plt.show()"
      ],
      "execution_count": 0,
      "outputs": [
        {
          "output_type": "display_data",
          "data": {
            "image/png": "[encoded data removed]",
            "text/plain": [
              "<matplotlib.figure.Figure at 0x7f0fb0f35518>"
            ]
          },
          "metadata": {
            "tags": []
          }
        },
        {
          "output_type": "display_data",
          "data": {
            "image/png": "[encoded data removed]",
            "text/plain": [
              "<matplotlib.figure.Figure at 0x7f0fb12b17b8>"
            ]
          },
          "metadata": {
            "tags": []
          }
        },
        {
          "output_type": "display_data",
          "data": {
            "image/png": "[encoded data removed]",
            "text/plain": [
              "<matplotlib.figure.Figure at 0x7f0fb13217f0>"
            ]
          },
          "metadata": {
            "tags": []
          }
        }
      ]
    },
    {
      "metadata": {
        "id": "0IizttQTr1xz",
        "colab_type": "text"
      },
      "cell_type": "markdown",
      "source": [
        "## 9. Next steps\n",
        "\n",
        "From the scatter plots, we can conclude that user ratings from IMDB and Fandango are the most similar. In addition, user ratings from Metacritic and Rotten Tomatoes have positive but weak correlations with user ratings from Fandango. We can also notice that user ratings from Metacritic and Rotten Tomatoes span a larger range of values than those from IMDB or Fandango. User ratings from Metacritic and Rotten Tomatoes range from 1 to 5. User ratings from Fandango range approximately from 2.5 to 5 while those from IMDB range approximately from 2 to 4.5.\n",
        "\n",
        "The scatter plots unfortunately only give us a cursory understanding of the distributions of user ratings from each review site. For example, if a hundred movies had the same average user rating from IMDB and Fandango in the dataset, we would only see a single marker in the scatter plot. In the next mission, we'll learn about two types of plots that help us understand distributions of values."
      ]
    }
  ]
}